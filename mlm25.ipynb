{
 "cells": [
  {
   "cell_type": "code",
   "execution_count": 1,
   "id": "92676743-48c1-40e6-9cc8-9bac18a0a98f",
   "metadata": {},
   "outputs": [],
   "source": [
    "# Hello Inkvestigators!  This is our Jupyter Notebook "
   ]
  },
  {
   "cell_type": "code",
   "execution_count": null,
   "id": "a10002f0-3a29-454d-9daa-48528be5f5c5",
   "metadata": {},
   "outputs": [],
   "source": []
  }
 ],
 "metadata": {
  "kernelspec": {
   "display_name": "anaconda-ml-ai",
   "language": "python",
   "name": "conda-env-anaconda-ml-ai"
  },
  "language_info": {
   "codemirror_mode": {
    "name": "ipython",
    "version": 3
   },
   "file_extension": ".py",
   "mimetype": "text/x-python",
   "name": "python",
   "nbconvert_exporter": "python",
   "pygments_lexer": "ipython3",
   "version": "3.11.13"
  }
 },
 "nbformat": 4,
 "nbformat_minor": 5
}
